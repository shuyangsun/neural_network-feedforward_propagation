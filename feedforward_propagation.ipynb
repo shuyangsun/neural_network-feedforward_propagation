{
 "cells": [
  {
   "cell_type": "code",
   "execution_count": 1,
   "metadata": {
    "collapsed": true
   },
   "outputs": [],
   "source": [
    "import numpy as np\n",
    "import matplotlib.pyplot as plt\n",
    "import scipy.io\n",
    "from ipywidgets import interact\n",
    "import math"
   ]
  },
  {
   "cell_type": "code",
   "execution_count": 2,
   "metadata": {
    "collapsed": true
   },
   "outputs": [],
   "source": [
    "%matplotlib inline"
   ]
  },
  {
   "cell_type": "code",
   "execution_count": 3,
   "metadata": {
    "collapsed": false
   },
   "outputs": [
    {
     "name": "stdout",
     "output_type": "stream",
     "text": [
      "Shape of data: (5000, 400)\n"
     ]
    }
   ],
   "source": [
    "mat_data = scipy.io.loadmat('hand_written_digits_data.mat')\n",
    "data = mat_data['X']\n",
    "print('Shape of data:', data.shape)"
   ]
  },
  {
   "cell_type": "code",
   "execution_count": 4,
   "metadata": {
    "collapsed": false
   },
   "outputs": [
    {
     "name": "stdout",
     "output_type": "stream",
     "text": [
      "Shape of theta1: (25, 401)\n",
      "Shape of theta2: (10, 26)\n"
     ]
    }
   ],
   "source": [
    "mat_weights = scipy.io.loadmat('hand_written_digits_weights.mat')\n",
    "theta1, theta2 = mat_weights['Theta1'], mat_weights['Theta2']\n",
    "print('Shape of theta1:', theta1.shape)\n",
    "print('Shape of theta2:', theta2.shape)"
   ]
  },
  {
   "cell_type": "code",
   "execution_count": 5,
   "metadata": {
    "collapsed": false,
    "scrolled": true
   },
   "outputs": [
    {
     "data": {
      "image/png": "[encoded data removed]",
      "text/plain": [
       "<matplotlib.figure.Figure at 0x10c3f1a58>"
      ]
     },
     "metadata": {},
     "output_type": "display_data"
    }
   ],
   "source": [
    "@interact\n",
    "def show_img(idx=[0, math.floor((np.size(data, axis=0) - 1)/5), 1], inverse_color=False):\n",
    "    plt.figure()\n",
    "    num_per_row = 5\n",
    "    for i in range(num_per_row):\n",
    "        row = data[idx * num_per_row + i]\n",
    "        matrix = row.reshape(20, 20).T\n",
    "        if inverse_color:\n",
    "            matrix = 1 - matrix\n",
    "        plt.subplot(1, num_per_row, i + 1)\n",
    "        plt.imshow(matrix, cmap='Greys_r')\n",
    "    plt.show()"
   ]
  },
  {
   "cell_type": "code",
   "execution_count": 6,
   "metadata": {
    "collapsed": false
   },
   "outputs": [],
   "source": [
    "def get_outputs(features, weights):\n",
    "    features = np.matrix(features)\n",
    "    weights = np.matrix(weights)\n",
    "    features = np.insert(features, 0, 1, axis=1)\n",
    "    z = features @ weights.T\n",
    "    return 1 / (1 + np.power(math.e, (-z)))"
   ]
  },
  {
   "cell_type": "code",
   "execution_count": 7,
   "metadata": {
    "collapsed": false
   },
   "outputs": [],
   "source": [
    "a2 = get_outputs(data, theta1)"
   ]
  },
  {
   "cell_type": "code",
   "execution_count": 8,
   "metadata": {
    "collapsed": true
   },
   "outputs": [],
   "source": [
    "h_theta_x = get_outputs(a2, theta2)"
   ]
  },
  {
   "cell_type": "code",
   "execution_count": 14,
   "metadata": {
    "collapsed": false,
    "scrolled": false
   },
   "outputs": [
    {
     "name": "stdout",
     "output_type": "stream",
     "text": [
      "Prediction values: [ 1  2  3  4  5  6  7  8  9 10]\n",
      "Results: [[10 10 10 ...,  9  9  9]]\n"
     ]
    }
   ],
   "source": [
    "result = np.argmax(h_theta_x, axis=1) + 1\n",
    "print('Prediction values:', np.unique(list(result.flatten())))\n",
    "print('Results:', result.T)"
   ]
  },
  {
   "cell_type": "code",
   "execution_count": null,
   "metadata": {
    "collapsed": true
   },
   "outputs": [],
   "source": []
  }
 ],
 "metadata": {
  "kernelspec": {
   "display_name": "Python 3",
   "language": "python",
   "name": "python3"
  },
  "language_info": {
   "codemirror_mode": {
    "name": "ipython",
    "version": 3
   },
   "file_extension": ".py",
   "mimetype": "text/x-python",
   "name": "python",
   "nbconvert_exporter": "python",
   "pygments_lexer": "ipython3",
   "version": "3.5.2"
  }
 },
 "nbformat": 4,
 "nbformat_minor": 0
}
